{
  "nbformat": 4,
  "nbformat_minor": 0,
  "metadata": {
    "colab": {
      "name": "Prueba_Video.ipynb",
      "provenance": []
    },
    "kernelspec": {
      "name": "python3",
      "display_name": "Python 3"
    },
    "language_info": {
      "name": "python"
    }
  },
  "cells": [
    {
      "cell_type": "code",
      "metadata": {
        "id": "E8gUEmfqXJuP"
      },
      "source": [
        "!help"
      ],
      "execution_count": null,
      "outputs": []
    },
    {
      "cell_type": "code",
      "metadata": {
        "id": "fHssBKq2XV4W"
      },
      "source": [
        "man find"
      ],
      "execution_count": 6,
      "outputs": []
    },
    {
      "cell_type": "code",
      "metadata": {
        "id": "MXb-sw0IXkc-"
      },
      "source": [
        "!find / -name '*.ipynb' "
      ],
      "execution_count": null,
      "outputs": []
    },
    {
      "cell_type": "code",
      "metadata": {
        "colab": {
          "base_uri": "https://localhost:8080/"
        },
        "id": "i9qq2PaiYkln",
        "outputId": "1f5d9abd-e87e-4e09-8da4-5949ba9c59b5"
      },
      "source": [
        "\"\"\"\n",
        "Vamos a hacer el ejercicio tutorial\n",
        "\n",
        "\"\"\"\n",
        "num = input(\"Dame un numero \" )\n",
        "print(\"Tu numero es\", num)\n",
        "print(\"Tu numero multiplicado por 5 es\", num*5) #esto no va afuncionar correctamente\n",
        "\n",
        "\"\"\"\n",
        "Lo convertimos a entero\n",
        "\"\"\"\n",
        "num = int(num)\n",
        "print(\"Tu numero multiplicado por 5 es\", num*5)"
      ],
      "execution_count": 14,
      "outputs": [
        {
          "output_type": "stream",
          "name": "stdout",
          "text": [
            "Dame un numero 69\n",
            "Tu numero es 69\n",
            "Tu numero multiplicado por 5 es 6969696969\n",
            "Tu numero multiplicado por 5 es 345\n"
          ]
        }
      ]
    },
    {
      "cell_type": "code",
      "metadata": {
        "colab": {
          "base_uri": "https://localhost:8080/"
        },
        "id": "-kzC95NhZx8Y",
        "outputId": "8787679a-1474-46b2-e679-320ddaa61ec5"
      },
      "source": [
        "type (num)"
      ],
      "execution_count": 15,
      "outputs": [
        {
          "output_type": "execute_result",
          "data": {
            "text/plain": [
              "int"
            ]
          },
          "metadata": {},
          "execution_count": 15
        }
      ]
    },
    {
      "cell_type": "code",
      "metadata": {
        "colab": {
          "base_uri": "https://localhost:8080/"
        },
        "id": "j4srEK4EaElA",
        "outputId": "54dc606b-54b1-46ba-f68f-23e926f006d9"
      },
      "source": [
        "num = 8//5\n",
        "type (num)"
      ],
      "execution_count": 20,
      "outputs": [
        {
          "output_type": "execute_result",
          "data": {
            "text/plain": [
              "int"
            ]
          },
          "metadata": {},
          "execution_count": 20
        }
      ]
    },
    {
      "cell_type": "code",
      "metadata": {
        "colab": {
          "base_uri": "https://localhost:8080/"
        },
        "id": "TmLmC-oqaKW3",
        "outputId": "7cd28289-7243-4727-c989-ee5f1060d3c7"
      },
      "source": [
        "print (num)"
      ],
      "execution_count": 21,
      "outputs": [
        {
          "output_type": "stream",
          "name": "stdout",
          "text": [
            "1\n"
          ]
        }
      ]
    },
    {
      "cell_type": "code",
      "metadata": {
        "colab": {
          "base_uri": "https://localhost:8080/"
        },
        "id": "OPCqfF_JaUvg",
        "outputId": "817cbc0f-b651-40c8-a6f7-c02fbcac74d9"
      },
      "source": [
        "num = 8/5\n",
        "print (num)\n",
        "type (num)"
      ],
      "execution_count": 23,
      "outputs": [
        {
          "output_type": "stream",
          "name": "stdout",
          "text": [
            "1.6\n"
          ]
        },
        {
          "output_type": "execute_result",
          "data": {
            "text/plain": [
              "float"
            ]
          },
          "metadata": {},
          "execution_count": 23
        }
      ]
    },
    {
      "cell_type": "code",
      "metadata": {
        "colab": {
          "base_uri": "https://localhost:8080/"
        },
        "id": "5d0p3glZakVw",
        "outputId": "ee892075-4ba7-4ad3-e9fe-4a4e1e2b071d"
      },
      "source": [
        "num = 8%5\n",
        "print (num)"
      ],
      "execution_count": 24,
      "outputs": [
        {
          "output_type": "stream",
          "name": "stdout",
          "text": [
            "3\n"
          ]
        }
      ]
    },
    {
      "cell_type": "code",
      "metadata": {
        "colab": {
          "base_uri": "https://localhost:8080/"
        },
        "id": "uLSP8FaQa6nQ",
        "outputId": "972ee953-56d3-4af6-b3b9-9c450fe5d9f1"
      },
      "source": [
        "nombre = \"Jorge\"\n",
        "print (nombre)\n",
        "type (nombre)"
      ],
      "execution_count": 25,
      "outputs": [
        {
          "output_type": "stream",
          "name": "stdout",
          "text": [
            "Jorge\n"
          ]
        },
        {
          "output_type": "execute_result",
          "data": {
            "text/plain": [
              "str"
            ]
          },
          "metadata": {},
          "execution_count": 25
        }
      ]
    },
    {
      "cell_type": "code",
      "metadata": {
        "colab": {
          "base_uri": "https://localhost:8080/"
        },
        "id": "joQNMJH2bhqh",
        "outputId": "7993fbc5-eaf8-4ebd-da0f-a70ada89d790"
      },
      "source": [
        "num = int(input(\"Dame un numero: \"))\n",
        "variable = (10>num)\n",
        "print(variable)\n",
        "type(variable)"
      ],
      "execution_count": 32,
      "outputs": [
        {
          "output_type": "stream",
          "name": "stdout",
          "text": [
            "Dame un numero: 56\n",
            "False\n"
          ]
        },
        {
          "output_type": "execute_result",
          "data": {
            "text/plain": [
              "bool"
            ]
          },
          "metadata": {},
          "execution_count": 32
        }
      ]
    },
    {
      "cell_type": "code",
      "metadata": {
        "colab": {
          "base_uri": "https://localhost:8080/"
        },
        "id": "hOHpDxAbb6WR",
        "outputId": "a7826d28-d1db-46fd-b8cb-e33298e60c10"
      },
      "source": [
        "if (num == 5):\n",
        "  print(\"Tu numero es 5\")\n",
        "else:\n",
        "  print(\"Tu numero es diferente de 5\")   "
      ],
      "execution_count": 33,
      "outputs": [
        {
          "output_type": "stream",
          "name": "stdout",
          "text": [
            "Tu numero es diferente de 5\n"
          ]
        }
      ]
    },
    {
      "cell_type": "code",
      "metadata": {
        "colab": {
          "base_uri": "https://localhost:8080/"
        },
        "id": "8aZLItAOc9ft",
        "outputId": "d059a226-7f20-4bab-8345-874ae15d8232"
      },
      "source": [
        "if (num != 5):\n",
        "  print(\"Tu numero es diferente de 5\")\n",
        "else:\n",
        "  print(\"Tu numero es 5\")   "
      ],
      "execution_count": 34,
      "outputs": [
        {
          "output_type": "stream",
          "name": "stdout",
          "text": [
            "Tu numero es diferente de 5\n"
          ]
        }
      ]
    },
    {
      "cell_type": "code",
      "metadata": {
        "colab": {
          "base_uri": "https://localhost:8080/"
        },
        "id": "ixkOB7xddIjp",
        "outputId": "2f540ef4-ea53-4002-f00a-934219484c8e"
      },
      "source": [
        "num = int(input(\"Dame un numero: \"))\n",
        "if (num >=10 and num <=15):\n",
        "  print(\"Tu numero está entre 10 y 15!\")\n",
        "elif (num >15):\n",
        "  print(\"Tu numero es mayor que 15\")\n",
        "else:\n",
        "  print(\"Tu numero es menor que 10 :(\")"
      ],
      "execution_count": 37,
      "outputs": [
        {
          "output_type": "stream",
          "name": "stdout",
          "text": [
            "Dame un numero: 1\n",
            "Tu numero es menor que 10 :(\n"
          ]
        }
      ]
    },
    {
      "cell_type": "code",
      "metadata": {
        "colab": {
          "base_uri": "https://localhost:8080/"
        },
        "id": "YJ6C78xMeyuj",
        "outputId": "0d12ce4b-2c93-499c-f0c2-b6e7ba7c8535"
      },
      "source": [
        "lista = range (11)\n",
        "for i in lista:\n",
        "  print(i)"
      ],
      "execution_count": 41,
      "outputs": [
        {
          "output_type": "stream",
          "name": "stdout",
          "text": [
            "0\n",
            "1\n",
            "2\n",
            "3\n",
            "4\n",
            "5\n",
            "6\n",
            "7\n",
            "8\n",
            "9\n",
            "10\n"
          ]
        }
      ]
    },
    {
      "cell_type": "code",
      "metadata": {
        "colab": {
          "base_uri": "https://localhost:8080/"
        },
        "id": "WXmZ5laQfimj",
        "outputId": "9dfa58de-5990-4e39-aa25-6beb6984c56b"
      },
      "source": [
        "lista = range (5,26)\n",
        "print(list(lista))\n",
        "print(\"La lista tiene\", len(lista), \"elementos\")"
      ],
      "execution_count": 42,
      "outputs": [
        {
          "output_type": "stream",
          "name": "stdout",
          "text": [
            "[5, 6, 7, 8, 9, 10, 11, 12, 13, 14, 15, 16, 17, 18, 19, 20, 21, 22, 23, 24, 25]\n",
            "La lista tiene 21 elementos\n"
          ]
        }
      ]
    },
    {
      "cell_type": "code",
      "metadata": {
        "colab": {
          "base_uri": "https://localhost:8080/"
        },
        "id": "fI9kSfZwgQmb",
        "outputId": "c6be9398-6eb6-49db-f8aa-bdd64c97c85b"
      },
      "source": [
        "lista = range (0,51,10)\n",
        "list(lista)"
      ],
      "execution_count": 60,
      "outputs": [
        {
          "output_type": "execute_result",
          "data": {
            "text/plain": [
              "[0, 10, 20, 30, 40, 50]"
            ]
          },
          "metadata": {},
          "execution_count": 60
        }
      ]
    },
    {
      "cell_type": "code",
      "metadata": {
        "colab": {
          "base_uri": "https://localhost:8080/"
        },
        "id": "-eOZKM3Zhv0d",
        "outputId": "619fe3a6-6291-499e-f219-12de8552c2ce"
      },
      "source": [
        "nombre = \"Jorge\"\n",
        "n_mayus = nombre.upper()\n",
        "print(n_mayus)\n",
        "print(nombre[3])\n",
        "len(nombre)"
      ],
      "execution_count": 65,
      "outputs": [
        {
          "output_type": "stream",
          "name": "stdout",
          "text": [
            "JORGE\n",
            "g\n"
          ]
        },
        {
          "output_type": "execute_result",
          "data": {
            "text/plain": [
              "5"
            ]
          },
          "metadata": {},
          "execution_count": 65
        }
      ]
    },
    {
      "cell_type": "code",
      "metadata": {
        "colab": {
          "base_uri": "https://localhost:8080/"
        },
        "id": "pqpGrx36nKjv",
        "outputId": "7539b380-6e5f-45c9-e137-728b3c81f3bf"
      },
      "source": [
        "nombres = [\"Alonso\", \"Hamilton\", \"Vettel\", \"Schumacher\", \"Barrichello\"]\n",
        "print(nombres[2])\n",
        "print(type(nombres))\n",
        "del nombres[1]\n",
        "print(nombres)\n",
        "nombres.insert(2, \"Fisichella\")\n",
        "print(nombres)\n",
        "print(\"Para ver la posición donde se encuentra un valor usamos index, Schumacher se encuentra en la posición:\", nombres.index(\"Schumacher\"))\n",
        "print(nombres)\n",
        "print(\"Para ver los elementos de la posición 1 a la 2, pongo un 3 al final:\", nombres[1:3])\n",
        "nombres.append(\"Alonso\")\n",
        "print(nombres)\n",
        "print(\"Para ver los elementos de 2 en 2:\", nombres[::2])\n",
        "print(\"Para ver los elementos en orden invertido uso -1\", nombres[::-1])\n",
        "#Para listar 1 a 1 los elementos de la lista\n",
        "for i in nombres:\n",
        "  print(i)\n"
      ],
      "execution_count": 87,
      "outputs": [
        {
          "output_type": "stream",
          "name": "stdout",
          "text": [
            "Vettel\n",
            "<class 'list'>\n",
            "['Alonso', 'Vettel', 'Schumacher', 'Barrichello']\n",
            "['Alonso', 'Vettel', 'Fisichella', 'Schumacher', 'Barrichello']\n",
            "Para ver la posición donde se encuentra un valor usamos index, Schumacher se encuentra en la posición: 3\n",
            "['Alonso', 'Vettel', 'Fisichella', 'Schumacher', 'Barrichello']\n",
            "Para ver los elementos de la posición 1 a la 2, pongo un 3 al final: ['Vettel', 'Fisichella']\n",
            "['Alonso', 'Vettel', 'Fisichella', 'Schumacher', 'Barrichello', 'Alonso']\n",
            "Para ver los elementos de 2 en 2: ['Alonso', 'Fisichella', 'Barrichello']\n",
            "Para ver los elementos en orden invertido uso -1 ['Alonso', 'Barrichello', 'Schumacher', 'Fisichella', 'Vettel', 'Alonso']\n",
            "Alonso\n",
            "Vettel\n",
            "Fisichella\n",
            "Schumacher\n",
            "Barrichello\n",
            "Alonso\n"
          ]
        }
      ]
    }
  ]
}